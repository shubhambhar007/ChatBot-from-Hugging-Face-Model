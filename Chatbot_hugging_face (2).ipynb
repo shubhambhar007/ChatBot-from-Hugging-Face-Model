{
  "nbformat": 4,
  "nbformat_minor": 0,
  "metadata": {
    "colab": {
      "provenance": [],
      "gpuType": "T4"
    },
    "kernelspec": {
      "name": "python3",
      "display_name": "Python 3"
    },
    "language_info": {
      "name": "python"
    },
    "accelerator": "GPU"
  },
  "cells": [
    {
      "cell_type": "code",
      "execution_count": null,
      "metadata": {
        "id": "ug3YsYTTtOpK"
      },
      "outputs": [],
      "source": [
        "import torch\n",
        "from transformers import AutoTokenizer,pipeline"
      ]
    },
    {
      "cell_type": "code",
      "source": [
        "model=\"tiiuae/falcon-7b-instruct\""
      ],
      "metadata": {
        "id": "hhtMOuB7t951"
      },
      "execution_count": null,
      "outputs": []
    },
    {
      "cell_type": "code",
      "source": [
        "tokenizer=AutoTokenizer.from_pretrained(model)"
      ],
      "metadata": {
        "id": "kKPVECDtuCRs"
      },
      "execution_count": null,
      "outputs": []
    },
    {
      "cell_type": "code",
      "source": [
        "pipeline = pipeline(\n",
        "    \"text-generation\",\n",
        "    model=model,\n",
        "    tokenizer=tokenizer,\n",
        "    torch_dtype=torch.bfloat16,\n",
        "    trust_remote_code=True,\n",
        "    device_map=\"auto\",\n",
        ")"
      ],
      "metadata": {
        "id": "_2DJ-5KVuIlr"
      },
      "execution_count": null,
      "outputs": []
    },
    {
      "cell_type": "code",
      "source": [
        "prompt=\"what is relativity\""
      ],
      "metadata": {
        "id": "d0fD_VoIuXmc"
      },
      "execution_count": null,
      "outputs": []
    },
    {
      "cell_type": "code",
      "source": [
        "newline_token = tokenizer.encode(\"\\n\")[0]\n",
        "my_name = \"Alice\"\n",
        "your_name = \"Bob\"\n",
        "dialog=[]\n",
        "while True:\n",
        "  user_input=input(\"Enter your query:\")\n",
        "  dialog.append(f\"{my_name}: {user_input}\")\n",
        "  prompt=\"\\n\".join(dialog)+f\"\\n{your_name}\"\n",
        "  sequences=pipeline(\n",
        "      prompt,\n",
        "      max_length=500,\n",
        "      do_sample=True,\n",
        "      top_k=10,\n",
        "      return_full_text=False,\n",
        "      num_return_sequences=1,\n",
        "      eos_token_id=newline_token,\n",
        "      pad_token_id = tokenizer.eos_token_id\n",
        "  )\n",
        "  print(sequences[0]['generated_text'])\n",
        "  dialog.append(\"Bob \"+sequences[0]['generated_text'])"
      ],
      "metadata": {
        "id": "gZuzMcDEua1H"
      },
      "execution_count": null,
      "outputs": []
    },
    {
      "cell_type": "code",
      "source": [],
      "metadata": {
        "id": "Lknk9HHkvY4v"
      },
      "execution_count": null,
      "outputs": []
    }
  ]
}